{
  "cells": [
    {
      "cell_type": "markdown",
      "source": [
        "#Exercícios"
      ],
      "metadata": {
        "id": "FFb9hn2G45hm"
      }
    },
    {
      "cell_type": "markdown",
      "metadata": {
        "id": "cbRQ3WJ2LBWf"
      },
      "source": [
        "**1.** Em uma **análise de regressão**, usualmente estamos interessados em descrever relações entre variáveis de um dado conjunto de dados por meio de uma **função** que descreva, o tanto quanto possível, estas relações.\n",
        "\n",
        "Por exemplo, no gráfico abaixo, os pontos vermelhos relacionam as medidas das duas variáveis sendo avaliadas (nos eixos x e y); e a linha azul aproxima a relação entre elas por uma função linear."
      ]
    },
    {
      "cell_type": "markdown",
      "metadata": {
        "id": "ub1LFHO7LBWf"
      },
      "source": [
        "![Normdist_regression.png](attachment:Normdist_regression.png)"
      ]
    },
    {
      "cell_type": "markdown",
      "metadata": {
        "id": "QdThe9iKLBWf"
      },
      "source": [
        "É possível ver que nem todos os pontos obedecem exatamente à relação ditada pela reta (isto é, há pontos que não estão exatamente \"sobre a reta\"; mas, sim, ligeraimente acima, ou abaixo, dela). Isto, contudo, é esperado em um modelo de regressão, por inúmeras fontes de incerteza associadas às medições."
      ]
    },
    {
      "cell_type": "markdown",
      "metadata": {
        "id": "8-uxI7jELBWf"
      },
      "source": [
        "Uma das métricas que utilizamos para avaliar a qualidade de uma regressão é o **erro quadrático médio (EQM)**, que mensura a diferença total entre cada predição da regressão ($y_{prediction}$; que no nosso caso seriam os valores de y para a reta azul) com o valor real de cada i-ésima medida ($y_{i}$; que no nosso caso seriam as coordenadas y para cada ponto vermelho do gráfico). O EQM pode ser definido como:"
      ]
    },
    {
      "cell_type": "markdown",
      "metadata": {
        "id": "vB9iRsEBLBWf"
      },
      "source": [
        "$EQM = \\frac{1}{n}\\sum_{i=1}^{n}(y_{prediction} - y_{i})^2$."
      ]
    },
    {
      "cell_type": "code",
      "source": [
        "import numpy as np"
      ],
      "metadata": {
        "id": "VfdZsqAKOKsZ"
      },
      "execution_count": null,
      "outputs": []
    },
    {
      "cell_type": "code",
      "execution_count": null,
      "metadata": {
        "id": "Gce-C68eLBWf"
      },
      "outputs": [],
      "source": [
        "# Solução\n",
        "def calculate_eqm(y_prediction, y_i):\n",
        "  return ((y_prediction - y_i)**2).sum()/(len(y_prediction)) "
      ]
    },
    {
      "cell_type": "code",
      "execution_count": null,
      "metadata": {
        "colab": {
          "base_uri": "https://localhost:8080/"
        },
        "id": "vmEdssnMLBWf",
        "outputId": "4b26f779-ca0a-42d9-f7cf-770f4c6e59f2"
      },
      "outputs": [
        {
          "output_type": "execute_result",
          "data": {
            "text/plain": [
              "1.6666666666666667"
            ]
          },
          "metadata": {},
          "execution_count": 3
        }
      ],
      "source": [
        "# dados dois arrays quaisquer de mesmo tamanho, a função deve retornar o EQM\n",
        "y_prediction = np.array([1,2,3])\n",
        "y_i = np.array([0,0,3])\n",
        "calculate_eqm(y_prediction,y_i)"
      ]
    },
    {
      "cell_type": "markdown",
      "metadata": {
        "id": "0Ggjps2ZLBWf"
      },
      "source": [
        "Isto posto, escreva uma função que calcule o EQM recebendo, como entrada, os vetores $y_{prediction}$ e $y_{i}$. Por exemplo, digamos que sua função se chame *calculate_eqm*, ela deve operar da seguinte forma:"
      ]
    },
    {
      "cell_type": "markdown",
      "metadata": {
        "id": "jzKkw2j0LBWf"
      },
      "source": [
        "**2.** A eletroencefalografia (EEG) é uma técnica que mensura potenciais elétricos cerebrais em diversas regiões do escalpo do paciente. Suponha que você recebeu um conjunto de dados na forma de uma matriz de 64 x 512 elementos, em que cada linha contém o sinal gravado em um dos **eletrodos** espalhados pelo escalpo em um exame de EEG, e cada coluna contém um valor de potencial elétrico, em microvolts. "
      ]
    },
    {
      "cell_type": "markdown",
      "metadata": {
        "id": "6p5b3SfHLBWf"
      },
      "source": [
        "Como o sinal de EEG é muito suscetível a ruídos externos (interferências na qualidade do sinal), uma operação comum para atenuar a interferência no sinal consiste em tirar a média do potencial elétrico de todos os eletrodos, e subtrair este valor de cada um deles. Isto atenua fontes de ruído ao sinal comuns a todos os eletrodos. Em termos matemáticos, o sinal processado por esta operação, $X_{e,i}$ para cada eletrodo (e) e amostra (i), é dado por:"
      ]
    },
    {
      "cell_type": "markdown",
      "metadata": {
        "id": "hSTzKMfELBWf"
      },
      "source": [
        "$X_{e,i} = \\hat{X_{e,i}} - \\frac{1}{N}\\sum_{e=1}^{N}\\hat{X_{e,i}}$,\n",
        "\n",
        "em que $\\hat{X_{e,i}}$ representa o sinal original (ou seja, é a matriz de entrada de 64 x 512 elementos), e $N$ indica o total de eletrodos."
      ]
    },
    {
      "cell_type": "markdown",
      "metadata": {
        "id": "a0UCEq2ILBWf"
      },
      "source": [
        "Com o exposto acima, escreva uma função que retorne uma matriz com os sinais de EEG processados conforme a operação mencionada. Sua função deve operar conforme o exemplo abaixo."
      ]
    },
    {
      "cell_type": "code",
      "source": [
        "def process_EEG_signal(X):\n",
        "  return np.array(X - np.mean(X))"
      ],
      "metadata": {
        "id": "KQs1pJUiR5T0"
      },
      "execution_count": null,
      "outputs": []
    },
    {
      "cell_type": "code",
      "execution_count": null,
      "metadata": {
        "colab": {
          "base_uri": "https://localhost:8080/"
        },
        "id": "J4ggf2DCLBWf",
        "outputId": "b1e0eaa9-d70f-46a5-86d1-f7ed2a2b03f1"
      },
      "outputs": [
        {
          "output_type": "execute_result",
          "data": {
            "text/plain": [
              "(64, 512)"
            ]
          },
          "metadata": {},
          "execution_count": 5
        }
      ],
      "source": [
        "# vamos supor uma matriz de entrada gerada por dados aleatórios\n",
        "X = np.random.randn(64,512)\n",
        "X.shape # apenas para verificar as dimensões"
      ]
    },
    {
      "cell_type": "code",
      "source": [
        "X"
      ],
      "metadata": {
        "colab": {
          "base_uri": "https://localhost:8080/"
        },
        "id": "Khw3xQhvUdig",
        "outputId": "9d7d4734-d099-4c2a-8393-b21318c39e2e"
      },
      "execution_count": null,
      "outputs": [
        {
          "output_type": "execute_result",
          "data": {
            "text/plain": [
              "array([[-0.34340667,  1.70159326, -1.18396214, ...,  0.03782556,\n",
              "        -0.1374089 , -0.80664202],\n",
              "       [ 0.12302128,  0.27381743, -1.07436573, ..., -0.78211741,\n",
              "         0.55897694, -0.28474213],\n",
              "       [ 1.70677281,  1.26918669,  0.04587282, ...,  0.33520974,\n",
              "         0.89856022,  1.06705665],\n",
              "       ...,\n",
              "       [ 0.54898826, -0.88995348,  1.67628333, ..., -1.22027518,\n",
              "        -1.60648204, -0.03189539],\n",
              "       [-0.43866139,  0.06701396, -0.1484072 , ...,  0.06511421,\n",
              "        -0.31428265,  0.79731154],\n",
              "       [ 1.68678545,  1.11025891,  1.65690923, ...,  0.90236112,\n",
              "         0.450053  , -0.47115322]])"
            ]
          },
          "metadata": {},
          "execution_count": 6
        }
      ]
    },
    {
      "cell_type": "code",
      "execution_count": null,
      "metadata": {
        "colab": {
          "base_uri": "https://localhost:8080/"
        },
        "id": "DN-uQDYBLBWf",
        "outputId": "77329210-ee46-44e0-b8ee-a8fba27ac41f"
      },
      "outputs": [
        {
          "output_type": "execute_result",
          "data": {
            "text/plain": [
              "array([[-0.34056229,  1.70443765, -1.18111776, ...,  0.04066995,\n",
              "        -0.13456451, -0.80379764],\n",
              "       [ 0.12586567,  0.27666182, -1.07152135, ..., -0.77927303,\n",
              "         0.56182133, -0.28189774],\n",
              "       [ 1.70961719,  1.27203107,  0.04871721, ...,  0.33805412,\n",
              "         0.90140461,  1.06990104],\n",
              "       ...,\n",
              "       [ 0.55183264, -0.8871091 ,  1.67912772, ..., -1.2174308 ,\n",
              "        -1.60363765, -0.029051  ],\n",
              "       [-0.435817  ,  0.06985835, -0.14556281, ...,  0.0679586 ,\n",
              "        -0.31143826,  0.80015592],\n",
              "       [ 1.68962983,  1.1131033 ,  1.65975361, ...,  0.90520551,\n",
              "         0.45289738, -0.46830883]])"
            ]
          },
          "metadata": {},
          "execution_count": 7
        }
      ],
      "source": [
        "# a função deve executar a operação equacionada anteriormente, retornando uma nova matriz\n",
        "X_processado = process_EEG_signal(X)\n",
        "X_processado"
      ]
    },
    {
      "cell_type": "code",
      "source": [
        "X_processado.shape"
      ],
      "metadata": {
        "colab": {
          "base_uri": "https://localhost:8080/"
        },
        "id": "j9E_7E67UhPI",
        "outputId": "2ead76a9-11d1-4d64-bbf6-33db75c0f715"
      },
      "execution_count": null,
      "outputs": [
        {
          "output_type": "execute_result",
          "data": {
            "text/plain": [
              "(64, 512)"
            ]
          },
          "metadata": {},
          "execution_count": 8
        }
      ]
    },
    {
      "cell_type": "code",
      "execution_count": null,
      "metadata": {
        "colab": {
          "base_uri": "https://localhost:8080/"
        },
        "id": "c6-PSdXHLBWf",
        "outputId": "27fbd054-c87e-4b61-c2dc-98552cdfa7b1"
      },
      "outputs": [
        {
          "output_type": "execute_result",
          "data": {
            "text/plain": [
              "93.20483816707565"
            ]
          },
          "metadata": {},
          "execution_count": 9
        }
      ],
      "source": [
        "# Somando as diferenças entre cada elemento das duas matrizes, apenas para ilustrar que elas não são iguais\n",
        "(X_processado - X).sum()"
      ]
    },
    {
      "cell_type": "code",
      "execution_count": null,
      "metadata": {
        "colab": {
          "base_uri": "https://localhost:8080/"
        },
        "id": "naOdbip4LBWf",
        "outputId": "9adf8951-7bef-4d1f-efda-933e543c19d9"
      },
      "outputs": [
        {
          "output_type": "execute_result",
          "data": {
            "text/plain": [
              "array([[-0.34340667,  1.70159326, -1.18396214, ...,  0.03782556,\n",
              "        -0.1374089 , -0.80664202],\n",
              "       [ 0.12302128,  0.27381743, -1.07436573, ..., -0.78211741,\n",
              "         0.55897694, -0.28474213],\n",
              "       [ 1.70677281,  1.26918669,  0.04587282, ...,  0.33520974,\n",
              "         0.89856022,  1.06705665],\n",
              "       ...,\n",
              "       [ 0.54898826, -0.88995348,  1.67628333, ..., -1.22027518,\n",
              "        -1.60648204, -0.03189539],\n",
              "       [-0.43866139,  0.06701396, -0.1484072 , ...,  0.06511421,\n",
              "        -0.31428265,  0.79731154],\n",
              "       [ 1.68678545,  1.11025891,  1.65690923, ...,  0.90236112,\n",
              "         0.450053  , -0.47115322]])"
            ]
          },
          "metadata": {},
          "execution_count": 10
        }
      ],
      "source": [
        "# Visualizando as matrizes, para verificar uma vez mais que, de fato, os elementos são diferentes\n",
        "X"
      ]
    },
    {
      "cell_type": "code",
      "execution_count": null,
      "metadata": {
        "colab": {
          "base_uri": "https://localhost:8080/"
        },
        "id": "jxqOEok_LBWg",
        "outputId": "cd861069-1976-4feb-cd58-a56996244de8"
      },
      "outputs": [
        {
          "output_type": "execute_result",
          "data": {
            "text/plain": [
              "array([[-0.34056229,  1.70443765, -1.18111776, ...,  0.04066995,\n",
              "        -0.13456451, -0.80379764],\n",
              "       [ 0.12586567,  0.27666182, -1.07152135, ..., -0.77927303,\n",
              "         0.56182133, -0.28189774],\n",
              "       [ 1.70961719,  1.27203107,  0.04871721, ...,  0.33805412,\n",
              "         0.90140461,  1.06990104],\n",
              "       ...,\n",
              "       [ 0.55183264, -0.8871091 ,  1.67912772, ..., -1.2174308 ,\n",
              "        -1.60363765, -0.029051  ],\n",
              "       [-0.435817  ,  0.06985835, -0.14556281, ...,  0.0679586 ,\n",
              "        -0.31143826,  0.80015592],\n",
              "       [ 1.68962983,  1.1131033 ,  1.65975361, ...,  0.90520551,\n",
              "         0.45289738, -0.46830883]])"
            ]
          },
          "metadata": {},
          "execution_count": 11
        }
      ],
      "source": [
        "# Matriz após o processamento descrito no enunciado\n",
        "X_processado"
      ]
    },
    {
      "cell_type": "markdown",
      "metadata": {
        "id": "qdrGBlyMLBWg"
      },
      "source": [
        "**3.** Em estatística, um **outlier** é um valor que destoa consideravelmente da distribuição à qual está associado. Um dos critérios para idenficar outliers consiste em encontrar a **distância interquantil** (IQR), ou seja, a diferença entre o terceiro (Q3) e o primeiro quartis (Q1) da distribuição, e tomar como outliers todos os pontos abaixo de 1.5*IQR - Q1, ou acima de 1.5*IQR + Q3."
      ]
    },
    {
      "cell_type": "markdown",
      "metadata": {
        "id": "xCQJvKDmLBWg"
      },
      "source": [
        "<img src = \"https://blog.curso-r.com/images/posts/banner/outlier.webp\" />"
      ]
    },
    {
      "cell_type": "markdown",
      "metadata": {
        "id": "65nZNbBdLBWg"
      },
      "source": [
        "Escreva uma função que, dada uma matriz de dados de entrada de dimensões $N_{observações} \\times N_{features}$ retorne três requisitos: \n",
        "- uma matriz booleana indicando a existência de outliers nos dados de entrada;\n",
        "- a quantidade de outliers\n",
        "- quem são os outliers (os valores)."
      ]
    },
    {
      "cell_type": "markdown",
      "metadata": {
        "id": "MYr2PiZCLBWg"
      },
      "source": [
        "**Algumas definições:**\n",
        "- um *quantil* divide a distribuição, após ordenados os pontos, segundo algum ponto de corte;\n",
        "- o **primeiro quartil** é o ponto para o qual 25 % dos valores da distribuição estão abaixo dele;\n",
        "- o **terceiro quartil** é o ponto para o qual 75 % dos valores da distribuição estão abaixo dele.\n",
        "\n",
        "Pode ser útil consultar a função **numpy.quantile**."
      ]
    },
    {
      "cell_type": "markdown",
      "metadata": {
        "id": "KF9IB7qxLBWg"
      },
      "source": [
        "Exemplo de operação da função:"
      ]
    },
    {
      "cell_type": "code",
      "execution_count": 88,
      "metadata": {
        "id": "6Txl-ho4LBWg",
        "outputId": "562d38a3-f0b6-461e-cc73-0204110e6ef7",
        "colab": {
          "base_uri": "https://localhost:8080/"
        }
      },
      "outputs": [
        {
          "output_type": "execute_result",
          "data": {
            "text/plain": [
              "array([[ 0.20141787, -0.69407966,  0.22043301, ..., -0.75403091,\n",
              "         0.2827192 ,  0.64998112],\n",
              "       [-1.43741868,  0.11964739, -0.42762249, ..., -0.7562655 ,\n",
              "        -1.19170576,  1.71820134],\n",
              "       [-0.95674341, -0.98971398,  0.52113542, ..., -1.22918926,\n",
              "        -1.51956699,  0.41115414],\n",
              "       ...,\n",
              "       [-0.14598578,  1.17622023,  0.48422146, ..., -1.03914779,\n",
              "         0.38738659, -1.23787045],\n",
              "       [ 0.75439196, -2.15088394,  0.11704892, ..., -0.62802926,\n",
              "         0.79499458, -1.80147433],\n",
              "       [-0.52495946,  1.48778581, -0.83356323, ...,  2.03116274,\n",
              "        -0.69658041, -0.22087872]])"
            ]
          },
          "metadata": {},
          "execution_count": 88
        }
      ],
      "source": [
        "# Geremos um conjunto de dados qualquer\n",
        "X = np.random.randn(300,15)\n",
        "X"
      ]
    },
    {
      "cell_type": "code",
      "source": [
        "def is_outlier(X):\n",
        "  q1 = np.quantile(X, .25)\n",
        "  q3 = np.quantile(X, .75)\n",
        "  qr = q3 - q1\n",
        "  out1 = q1 - qr*1.5\n",
        "  out3 = q3 + qr*1.5\n",
        "  outx = ((X > out3) | (X < out1))\n",
        "  return outx"
      ],
      "metadata": {
        "id": "TXudOhs85nDk"
      },
      "execution_count": 123,
      "outputs": []
    },
    {
      "cell_type": "code",
      "source": [
        "is_outlier(X)"
      ],
      "metadata": {
        "colab": {
          "base_uri": "https://localhost:8080/"
        },
        "id": "nb6W8woPJagy",
        "outputId": "28777c44-9844-4b46-d7c1-3a077e3b7473"
      },
      "execution_count": 124,
      "outputs": [
        {
          "output_type": "execute_result",
          "data": {
            "text/plain": [
              "array([[False, False, False, ..., False, False, False],\n",
              "       [False, False, False, ..., False, False, False],\n",
              "       [False, False, False, ..., False, False, False],\n",
              "       ...,\n",
              "       [False, False, False, ..., False, False, False],\n",
              "       [False, False, False, ..., False, False, False],\n",
              "       [False, False, False, ..., False, False, False]])"
            ]
          },
          "metadata": {},
          "execution_count": 124
        }
      ]
    },
    {
      "cell_type": "code",
      "source": [
        "def outliers_count(X):\n",
        "  q1 = np.quantile(X, .25)\n",
        "  q3 = np.quantile(X, .75)\n",
        "  qr = q3 - q1\n",
        "  out1 = q1 - qr*1.5\n",
        "  out3 = q3 + qr*1.5\n",
        "  outx = ((X > out3) | (X < out1))\n",
        "  return X[outx].size"
      ],
      "metadata": {
        "id": "GaaD3OZw5prO"
      },
      "execution_count": 127,
      "outputs": []
    },
    {
      "cell_type": "code",
      "source": [
        "outliers_count(X)"
      ],
      "metadata": {
        "colab": {
          "base_uri": "https://localhost:8080/"
        },
        "id": "vkWebs9oLcgW",
        "outputId": "79ef1aa6-42ac-4207-e679-14f98878d75b"
      },
      "execution_count": 129,
      "outputs": [
        {
          "output_type": "execute_result",
          "data": {
            "text/plain": [
              "23"
            ]
          },
          "metadata": {},
          "execution_count": 129
        }
      ]
    },
    {
      "cell_type": "code",
      "source": [
        "def outliers(X):\n",
        "  q1 = np.quantile(X, .25)\n",
        "  q3 = np.quantile(X, .75)\n",
        "  qr = q3 - q1\n",
        "  out1 = q1 - qr*1.5\n",
        "  out3 = q3 + qr*1.5\n",
        "  outx = ((X > out3) | (X < out1))\n",
        "  return X[outx]"
      ],
      "metadata": {
        "id": "3pLTC1FG5tEX"
      },
      "execution_count": 125,
      "outputs": []
    },
    {
      "cell_type": "code",
      "source": [
        "outliers(X)"
      ],
      "metadata": {
        "colab": {
          "base_uri": "https://localhost:8080/"
        },
        "id": "FauvKgvUMonf",
        "outputId": "2291cbe9-9215-48eb-b128-815060812bdb"
      },
      "execution_count": 126,
      "outputs": [
        {
          "output_type": "execute_result",
          "data": {
            "text/plain": [
              "array([-3.33864718, -3.05163787,  2.76260975, -3.32459185, -2.73487784,\n",
              "        2.87653509, -2.93475813, -3.33298393,  4.00286729, -2.99937681,\n",
              "       -2.97288104,  3.33989247,  2.78659606,  3.24429867, -3.09683765,\n",
              "        2.75486293, -2.74152242,  2.93107669, -2.81681976,  2.83293134,\n",
              "       -3.34324718, -3.0102005 ,  3.02935423])"
            ]
          },
          "metadata": {},
          "execution_count": 126
        }
      ]
    },
    {
      "cell_type": "code",
      "source": [
        "def locate_outliers(X):\n",
        "  print(is_outlier(X))\n",
        "  print(outliers_count(X))\n",
        "  print(outliers(X))"
      ],
      "metadata": {
        "id": "KCKHnnVzxUcZ"
      },
      "execution_count": 130,
      "outputs": []
    },
    {
      "cell_type": "code",
      "source": [
        "locate_outliers(X)"
      ],
      "metadata": {
        "colab": {
          "base_uri": "https://localhost:8080/"
        },
        "id": "YgSHbXjWyMnj",
        "outputId": "2d20874a-1c38-42eb-9a69-8454090a2b12"
      },
      "execution_count": 132,
      "outputs": [
        {
          "output_type": "stream",
          "name": "stdout",
          "text": [
            "[[False False False ... False False False]\n",
            " [False False False ... False False False]\n",
            " [False False False ... False False False]\n",
            " ...\n",
            " [False False False ... False False False]\n",
            " [False False False ... False False False]\n",
            " [False False False ... False False False]]\n",
            "23\n",
            "[-3.33864718 -3.05163787  2.76260975 -3.32459185 -2.73487784  2.87653509\n",
            " -2.93475813 -3.33298393  4.00286729 -2.99937681 -2.97288104  3.33989247\n",
            "  2.78659606  3.24429867 -3.09683765  2.75486293 -2.74152242  2.93107669\n",
            " -2.81681976  2.83293134 -3.34324718 -3.0102005   3.02935423]\n"
          ]
        }
      ]
    }
  ],
  "metadata": {
    "kernelspec": {
      "display_name": "Python 3",
      "language": "python",
      "name": "python3"
    },
    "language_info": {
      "codemirror_mode": {
        "name": "ipython",
        "version": 3
      },
      "file_extension": ".py",
      "mimetype": "text/x-python",
      "name": "python",
      "nbconvert_exporter": "python",
      "pygments_lexer": "ipython3",
      "version": "3.8.5"
    },
    "colab": {
      "provenance": []
    }
  },
  "nbformat": 4,
  "nbformat_minor": 0
}